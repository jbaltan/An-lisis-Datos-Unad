{
 "cells": [
  {
   "cell_type": "code",
   "execution_count": null,
   "id": "c6854ad9-249e-42fe-a5aa-839952ab0567",
   "metadata": {},
   "outputs": [],
   "source": [
    "import pandas as pd\n",
    "import numpy as np\n",
    "import seaborn as sns\n",
    "import matplotlib.pyplot as plt\n",
    "import pandas as pd\n",
    "from sklearn.preprocessing import StandardScaler, OneHotEncoder\n",
    "from sklearn.pipeline import Pipeline\n",
    "from sklearn.linear_model import LogisticRegression\n",
    "import matplotlib.pyplot as plt\n",
    "from sklearn.compose import ColumnTransformer\n",
    "import seaborn as sns\n",
    "from sklearn.model_selection import train_test_split\n",
    "from sklearn.metrics import mean_squared_error\n",
    "from scipy import stats\n",
    "from sklearn.linear_model import LinearRegression\n",
    "from sklearn.metrics import accuracy_score, classification_report\n",
    "import warnings"
   ]
  },
  {
   "cell_type": "code",
   "execution_count": null,
   "id": "57752bf2-b0a5-4f8e-9d93-2658a011ca84",
   "metadata": {},
   "outputs": [],
   "source": [
    "# Ignorar advertencias\n",
    "warnings.filterwarnings(\"ignore\", message=\"use_inf_as_na option is deprecated\", category=FutureWarning)\n",
    "warnings.filterwarnings(\"ignore\", category=FutureWarning)"
   ]
  },
  {
   "cell_type": "code",
   "execution_count": null,
   "id": "1a3d676e-e20f-4a8c-aa9f-dcb956fbce6b",
   "metadata": {},
   "outputs": [],
   "source": [
    "# Load the dataset\n",
    "df = pd.read_csv('D:/bsaan/OneDrive - Universidad Nacional Abierta y a Distancia/universidad/Septimo semestre/Analisis de datos/Actividad 5/Titanic-Dataset.csv')"
   ]
  },
  {
   "cell_type": "code",
   "execution_count": null,
   "id": "64452ef8-a0a5-4eb4-8cb4-68fcf4dfb8b2",
   "metadata": {},
   "outputs": [],
   "source": [
    "# Mostrar las primeras filas del marco de datos\n",
    "print(\"Visualización primaria del dataSet\")\n",
    "print(df.head())"
   ]
  },
  {
   "cell_type": "code",
   "execution_count": null,
   "id": "f3860f3b-926f-4b50-8b1a-4f5058221e7c",
   "metadata": {},
   "outputs": [],
   "source": [
    "print(\"Tipos de datos de cada columna:\")\n",
    "print(df.dtypes)"
   ]
  },
  {
   "cell_type": "code",
   "execution_count": null,
   "id": "0ae3faa9-3ce7-4898-9168-63c7088c5e7b",
   "metadata": {},
   "outputs": [],
   "source": [
    "# Corroborando cuantos valores son NULL por columna\n",
    "print(\"Valores NULL de cada columna del DataFrame.\")\n",
    "print(df.isnull().sum())\n",
    "\n",
    "# Impute missing values\n",
    "df['Edad'].fillna(df['Edad'].median(), inplace=True)\n",
    "df['Embarcado'].fillna(df['Embarcado'].mode()[0], inplace=True)\n",
    "df['Cabina'].fillna(df['Cabina'].mode()[0], inplace=True)"
   ]
  },
  {
   "cell_type": "code",
   "execution_count": null,
   "id": "3d1531ca-b9e1-4b23-b341-f7441ab726a9",
   "metadata": {},
   "outputs": [],
   "source": [
    "# Casteando valores String a numericos para procesamiento necesario\n",
    "df['Sexo'] = df['Sexo'].replace({'male': 1, 'female': 0})"
   ]
  },
  {
   "cell_type": "code",
   "execution_count": null,
   "id": "98900599-2497-4711-9624-1007e34526bc",
   "metadata": {},
   "outputs": [],
   "source": [
    "# Quitando columnas irrelevantes\n",
    "df.drop(['IdPasajero', 'Nombre', 'Ticket', 'Cabina'], axis=1, inplace=True)"
   ]
  },
  {
   "cell_type": "code",
   "execution_count": null,
   "id": "32b3661b-b2f8-41ec-a4ba-9bf9a5cdbb80",
   "metadata": {},
   "outputs": [],
   "source": [
    "# Estadísticas de resumen de variables numéricas\n",
    "print(df.describe())"
   ]
  },
  {
   "cell_type": "code",
   "execution_count": null,
   "id": "c0935e10-6ba8-43f2-9e6a-eef14d817d03",
   "metadata": {},
   "outputs": [],
   "source": [
    "# Obtener los valores únicos de la columna 'Embarcado' porque necesito convertir la columna a tipo numérico\n",
    "print(\"Valores unicos de Embarcado:\")\n",
    "print(df['Embarcado'].unique())\n",
    "\n",
    "# S = 0, C = 1, Q = 2\n",
    "df['Embarcado'] = df['Embarcado'].replace({'S': 0, 'C': 1, 'Q': 2})"
   ]
  },
  {
   "cell_type": "code",
   "execution_count": null,
   "id": "08704244-a124-4d14-b1d4-a8e9f5c41aa6",
   "metadata": {},
   "outputs": [],
   "source": [
    "# Correlation matrix\n",
    "corr_matrix = df.corr()\n",
    "\n",
    "plt.figure(figsize=(10, 8))\n",
    "sns.heatmap(corr_matrix, annot=True, cmap='coolwarm')\n",
    "plt.title('Correlation Matrix')\n",
    "plt.show()\n",
    "\n",
    "\"\"\"\n",
    "La variable más importante es \"Sobrevivió\", que indica si una persona sobrevivió o no.\n",
    "Tiene una correlación negativa moderada con \"Clase\" (-0.34), lo que sugiere que las personas en clases más altas tenían más probabilidades de sobrevivir.\n",
    "Tiene una correlación negativa fuerte con \"Sexo\" (-0.54), indicando que el sexo tiene una influencia significativa en la supervivencia (posiblemente mujeres tuvieron más probabilidades de sobrevivir).\n",
    "Correlaciones muy débiles con otras variables como \"Edad\" (-0.065), \"Hermanos/Cónyuge\" (-0.035), \"Padres/Hijos\" (0.082), \"Tarifa\" (0.26), y \"Embarcado\" (0.11).\n",
    "\"\"\"\n",
    "\n",
    "# Data Visualization\n",
    "sns.pairplot(df, hue='Sobrevivió')\n",
    "plt.show()\n",
    "\n",
    "\"\"\"\n",
    "Mirando todos los diagramas saque un top 5 para orientarme en el análisis exploratorio:\n",
    "\n",
    "Sexo vs. Sobrevivió:\n",
    "Este gráfico es crucial porque la variable de sexo ha demostrado ser una de las más significativas en la tasa de supervivencia del Titanic.\n",
    "\n",
    "Clase vs. Sobrevivió:\n",
    "La clase del pasajero (1ª, 2ª, 3ª) también es un factor crítico. Los pasajeros de clases superiores tenían mayores tasas de supervivencia.\n",
    "\n",
    "Edad vs. Sobrevivió:\n",
    "La edad es una variable importante. Por ejemplo, se ha observado que los niños tenían una mayor probabilidad de supervivencia.\n",
    "\n",
    "Tarifa vs. Sobrevivió:\n",
    "La tarifa pagada por el billete puede estar correlacionada con la clase y, por lo tanto, con la probabilidad de supervivencia. Es útil explorar esta relación directamente.\n",
    "\n",
    "Embarcado vs. Sobrevivió:\n",
    "El puerto de embarque (C = Cherburgo, Q = Queenstown, S = Southampton) puede proporcionar información sobre la distribución de pasajeros y su supervivencia.\n",
    "\"\"\"\n",
    "\n",
    "# Boxplot\n",
    "plt.figure(figsize=(10, 6))\n",
    "sns.boxplot(x='Clase', y='Edad', data=df)\n",
    "plt.title('Diagrama de caja de Edad por Clase')\n",
    "plt.show()\n",
    "\n",
    "# Feature Engineering\n",
    "# Convert categorical variables to dummy variables\n",
    "#df = pd.get_dummies(df, columns=['Sexo', 'Embarcado'], drop_first=True)"
   ]
  },
  {
   "cell_type": "code",
   "execution_count": null,
   "id": "9501b8fd-c2ef-401c-aae1-f2a5fb0a7e42",
   "metadata": {},
   "outputs": [],
   "source": [
    "# Construcción de modelos (regresión)\n",
    "\n",
    "# Columnas relevantes\n",
    "columnas_relevantes = ['Clase', 'Sexo', 'Edad', 'Hermanos/Cónyuge', 'Padres/Hijos', 'Tarifa', 'Embarcado']\n",
    "\n",
    "# Dividir el conjunto de datos en características y variable de destino\n",
    "X = df[columnas_relevantes]\n",
    "y = df['Sobrevivió']\n",
    "\n",
    "# Dividir los datos en entrenamiento y prueba\n",
    "X_train, X_test, y_train, y_test = train_test_split(X, y, test_size=0.2, random_state=42)\n",
    "\n",
    "# Definir el preprocesamiento\n",
    "preprocessor = ColumnTransformer(\n",
    "    transformers=[\n",
    "        ('num', StandardScaler(), columnas_relevantes),\n",
    "    ])\n",
    "\n",
    "# Definir el modelo\n",
    "model = Pipeline(steps=[\n",
    "    ('preprocessor', preprocessor),\n",
    "    ('classifier', LogisticRegression())\n",
    "])\n",
    "\n",
    "# Entrenar el modelo\n",
    "model.fit(X_train, y_train)\n",
    "\n",
    "# Predecir y evaluar\n",
    "y_pred = model.predict(X_test)\n",
    "print(f'Accuracy: {accuracy_score(y_test, y_pred)}')\n",
    "print(classification_report(y_test, y_pred))"
   ]
  },
  {
   "cell_type": "code",
   "execution_count": null,
   "id": "ce21e483-eaaf-4b61-824d-62172b47c2af",
   "metadata": {},
   "outputs": [],
   "source": [
    "from sklearn.metrics import precision_score, recall_score, f1_score, confusion_matrix\n",
    "\n",
    "# Predecir y evaluar\n",
    "y_pred = model.predict(X_test)\n",
    "print('Metricas de evaluacion del modelo en el conjunto de test:')\n",
    "print(f'Accuracy: {accuracy_score(y_test, y_pred)}')\n",
    "print(f'Precision: {precision_score(y_test, y_pred)}')\n",
    "print(f'Recall: {recall_score(y_test, y_pred)}')\n",
    "print(f'F1-score: {f1_score(y_test, y_pred)}')\n",
    "\n",
    "# Matriz de confusión\n",
    "conf_matrix = confusion_matrix(y_test, y_pred)\n",
    "print('Matriz de confusión:')\n",
    "print(conf_matrix)"
   ]
  },
  {
   "cell_type": "code",
   "execution_count": null,
   "id": "394f37e9-07e6-4912-9683-35991f9909de",
   "metadata": {},
   "outputs": [],
   "source": [
    "# Supongamos que tienes un DataFrame llamado 'data' que contiene tus datos\n",
    "# Asegúrate de tener la columna 'Sobrevivió' en tus datos\n",
    "\n",
    "# Diagrama de caja para Clase y Sobrevivió\n",
    "sns.boxplot(x='Sobrevivió', y='Clase', data=df)\n",
    "plt.title('Diagrama de Caja para Clase y Sobrevivió')\n",
    "plt.show()\n",
    "\n",
    "# Diagrama de caja para Sexo y Sobrevivió\n",
    "sns.boxplot(x='Sobrevivió', y='Sexo', data=df)\n",
    "plt.title('Diagrama de Caja para Sexo y Sobrevivió')\n",
    "plt.show()\n",
    "\n",
    "# Diagrama de caja para Edad y Sobrevivió\n",
    "sns.boxplot(x='Sobrevivió', y='Edad', data=df)\n",
    "plt.title('Diagrama de Caja para Edad y Sobrevivió')\n",
    "plt.show()"
   ]
  },
  {
   "cell_type": "code",
   "execution_count": null,
   "id": "4eb66606-79ba-4dd3-8d25-210f9da70ab7",
   "metadata": {},
   "outputs": [],
   "source": [
    "from sklearn.metrics import confusion_matrix\n",
    "conf_matrix = confusion_matrix(y_test, y_pred)\n",
    "plt.figure(figsize=(8, 6))\n",
    "sns.heatmap(conf_matrix, annot=True, fmt=\"d\", cmap=\"Blues\")\n",
    "plt.xlabel('Predicted')\n",
    "plt.ylabel('Actual')\n",
    "plt.title('Confusion Matrix')\n",
    "plt.show()\n"
   ]
  },
  {
   "cell_type": "code",
   "execution_count": null,
   "id": "0f8d72bb-489b-4001-98c4-5a3f16958f25",
   "metadata": {},
   "outputs": [],
   "source": [
    "# Obtener los coeficientes del modelo de regresión logística\n",
    "coefficients = model.named_steps['classifier'].coef_[0]\n",
    "features = columnas_relevantes\n",
    "\n",
    "plt.figure(figsize=(12, 6))\n",
    "sns.barplot(x=coefficients, y=features)\n",
    "plt.xlabel('Coefficient')\n",
    "plt.ylabel('Feature')\n",
    "plt.title('Logistic Regression Coefficients')\n",
    "plt.show()\n"
   ]
  },
  {
   "cell_type": "code",
   "execution_count": null,
   "id": "1a40cc1e-17ec-4465-b089-151de601a285",
   "metadata": {},
   "outputs": [],
   "source": []
  }
 ],
 "metadata": {
  "kernelspec": {
   "display_name": "Python 3 (ipykernel)",
   "language": "python",
   "name": "python3"
  },
  "language_info": {
   "codemirror_mode": {
    "name": "ipython",
    "version": 3
   },
   "file_extension": ".py",
   "mimetype": "text/x-python",
   "name": "python",
   "nbconvert_exporter": "python",
   "pygments_lexer": "ipython3",
   "version": "3.11.7"
  }
 },
 "nbformat": 4,
 "nbformat_minor": 5
}
